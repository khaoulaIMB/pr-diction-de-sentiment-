{
 "cells": [
  {
   "cell_type": "code",
   "execution_count": 3,
   "id": "17ae43c0-ba0a-419e-ae10-2594aa7d2044",
   "metadata": {},
   "outputs": [
    {
     "name": "stdout",
     "output_type": "stream",
     "text": [
      "Requirement already satisfied: kafka-python-ng in c:\\users\\dell\\appdata\\local\\programs\\python\\python312\\lib\\site-packages (2.2.2)\n"
     ]
    }
   ],
   "source": [
    "!pip install kafka-python-ng"
   ]
  },
  {
   "cell_type": "code",
   "execution_count": 2,
   "id": "82308649",
   "metadata": {
    "scrolled": true
   },
   "outputs": [],
   "source": [
    "from kafka import KafkaProducer\n",
    "import csv\n",
    "\n",
    "producer = KafkaProducer(\n",
    "    bootstrap_servers='localhost:29092',\n",
    "    acks='all',\n",
    "    retries=5,\n",
    "    retry_backoff_ms=2000\n",
    ")"
   ]
  },
  {
   "cell_type": "code",
   "execution_count": 3,
   "id": "655c23ea",
   "metadata": {},
   "outputs": [],
   "source": [
    "from kafka.errors import KafkaError\n",
    "\n",
    "try:\n",
    "    with open('twitter_training.csv', 'r', encoding='utf-8') as file:\n",
    "        reader = csv.reader(file)\n",
    "        for row in reader:\n",
    "            message = ','.join(row).encode('utf-8')\n",
    "            # Envoyer le message et attendre la confirmation\n",
    "            future = producer.send('twitter_topic', message)\n",
    "            result = future.get(timeout=60)  # Attendez la confirmation pendant 60 secondes\n",
    "except KafkaError as e:\n",
    "    print(f\"Une erreur Kafka est survenue : {e}\")\n",
    "except Exception as e:\n",
    "    print(f\"Une erreur est survenue : {e}\")\n",
    "finally:\n",
    "    producer.flush()\n"
   ]
  },
  {
   "cell_type": "code",
   "execution_count": null,
   "id": "de415bc9",
   "metadata": {},
   "outputs": [],
   "source": []
  }
 ],
 "metadata": {
  "kernelspec": {
   "display_name": "Python 3 (ipykernel)",
   "language": "python",
   "name": "python3"
  },
  "language_info": {
   "codemirror_mode": {
    "name": "ipython",
    "version": 3
   },
   "file_extension": ".py",
   "mimetype": "text/x-python",
   "name": "python",
   "nbconvert_exporter": "python",
   "pygments_lexer": "ipython3",
   "version": "3.12.2"
  }
 },
 "nbformat": 4,
 "nbformat_minor": 5
}
